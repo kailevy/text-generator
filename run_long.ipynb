{
 "cells": [
  {
   "cell_type": "code",
   "execution_count": 1,
   "metadata": {},
   "outputs": [
    {
     "name": "stderr",
     "output_type": "stream",
     "text": [
      "/usr/local/lib/python2.7/dist-packages/h5py/__init__.py:36: FutureWarning: Conversion of the second argument of issubdtype from `float` to `np.floating` is deprecated. In future, it will be treated as `np.float64 == np.dtype(float).type`.\n",
      "  from ._conv import register_converters as _register_converters\n",
      "Using TensorFlow backend.\n"
     ]
    }
   ],
   "source": [
    "%matplotlib inline\n",
    "from __future__ import print_function\n",
    "import matplotlib.pyplot as plt\n",
    "import numpy as np\n",
    "import time\n",
    "import csv\n",
    "from keras.models import Sequential\n",
    "from keras.layers.core import Dense, Activation, Dropout\n",
    "from keras.layers.recurrent import LSTM, SimpleRNN\n",
    "from keras.layers.wrappers import TimeDistributed\n",
    "import keras.callbacks\n",
    "from keras import optimizers\n",
    "import argparse\n",
    "import pickle\n",
    "from RNN_utils import *\n",
    "\n"
   ]
  },
  {
   "cell_type": "code",
   "execution_count": 2,
   "metadata": {},
   "outputs": [
    {
     "name": "stdout",
     "output_type": "stream",
     "text": [
      "Data length: 4573338 characters\n",
      "Vocabulary size: 67 characters\n"
     ]
    }
   ],
   "source": [
    "DEFAULT_LAYERS = 2\n",
    "DEFAULT_HIDDEN = 500\n",
    "DEFAULT_DROPOUT = 0.15\n",
    "\n",
    "DATA_DIR = './data/shakespeare_input.txt'\n",
    "BATCH_SIZE = 30\n",
    "SEQ_LENGTH = 50\n",
    "\n",
    "num_epochs = 50\n",
    "\n",
    "# Creating training data\n",
    "X, y, VOCAB_SIZE, ix_to_char, char_to_ix = load_data(DATA_DIR, SEQ_LENGTH)"
   ]
  },
  {
   "cell_type": "code",
   "execution_count": 3,
   "metadata": {},
   "outputs": [],
   "source": [
    "# Split testing data from training/validation data\n",
    "train_split = 0.8\n",
    "test_ind = int(round(train_split*len(X)))\n",
    "X_test = X[test_ind:]\n",
    "y_test = y[test_ind:]\n",
    "X_train = X[:test_ind]\n",
    "y_train = y[:test_ind]"
   ]
  },
  {
   "cell_type": "code",
   "execution_count": 4,
   "metadata": {},
   "outputs": [],
   "source": [
    "model = make_lstm_model(VOCAB_SIZE, DEFAULT_LAYERS, DEFAULT_HIDDEN, DEFAULT_DROPOUT)"
   ]
  },
  {
   "cell_type": "code",
   "execution_count": 7,
   "metadata": {},
   "outputs": [
    {
     "name": "stdout",
     "output_type": "stream",
     "text": [
      "Train on 58538 samples, validate on 14635 samples\n",
      "Epoch 1/50\n",
      "58538/58538 [==============================] - 599s 10ms/step - loss: 2.2002 - val_loss: 1.8073\n",
      "Epoch 2/50\n",
      "58538/58538 [==============================] - 598s 10ms/step - loss: 1.6659 - val_loss: 1.6724\n",
      "Epoch 3/50\n",
      "58538/58538 [==============================] - 598s 10ms/step - loss: 1.5162 - val_loss: 1.6042\n",
      "Epoch 4/50\n",
      "58538/58538 [==============================] - 601s 10ms/step - loss: 1.4426 - val_loss: 1.5808\n",
      "Epoch 5/50\n",
      "58538/58538 [==============================] - 600s 10ms/step - loss: 1.3977 - val_loss: 1.5551\n",
      "Epoch 6/50\n",
      "58538/58538 [==============================] - 598s 10ms/step - loss: 1.3664 - val_loss: 1.5508\n",
      "Epoch 7/50\n",
      "58538/58538 [==============================] - 598s 10ms/step - loss: 1.3432 - val_loss: 1.5370\n",
      "Epoch 8/50\n",
      "58538/58538 [==============================] - 598s 10ms/step - loss: 1.3239 - val_loss: 1.5374\n",
      "Epoch 9/50\n",
      "58538/58538 [==============================] - 601s 10ms/step - loss: 1.3081 - val_loss: 1.5289\n",
      "Epoch 10/50\n",
      "58538/58538 [==============================] - 600s 10ms/step - loss: 1.2946 - val_loss: 1.5340\n",
      "Epoch 11/50\n",
      "58538/58538 [==============================] - 601s 10ms/step - loss: 1.2821 - val_loss: 1.5290\n",
      "Epoch 12/50\n",
      "58538/58538 [==============================] - 601s 10ms/step - loss: 1.2712 - val_loss: 1.5352\n",
      "Epoch 13/50\n",
      "58538/58538 [==============================] - 600s 10ms/step - loss: 1.2614 - val_loss: 1.5303\n",
      "Epoch 14/50\n",
      "58538/58538 [==============================] - 601s 10ms/step - loss: 1.2443 - val_loss: 1.5364\n",
      "Epoch 16/50\n",
      "58538/58538 [==============================] - 601s 10ms/step - loss: 1.2364 - val_loss: 1.5419\n",
      "Epoch 17/50\n",
      "58538/58538 [==============================] - 600s 10ms/step - loss: 1.2288 - val_loss: 1.5447\n",
      "Epoch 18/50\n",
      "58538/58538 [==============================] - 601s 10ms/step - loss: 1.2222 - val_loss: 1.5428\n",
      "Epoch 19/50\n",
      "58538/58538 [==============================] - 600s 10ms/step - loss: 1.2157 - val_loss: 1.5467\n",
      "Epoch 20/50\n",
      "58538/58538 [==============================] - 600s 10ms/step - loss: 1.2099 - val_loss: 1.5541\n",
      "Epoch 21/50\n",
      "58538/58538 [==============================] - 600s 10ms/step - loss: 1.2040 - val_loss: 1.5631\n",
      "Epoch 22/50\n",
      "58538/58538 [==============================] - 600s 10ms/step - loss: 1.1985 - val_loss: 1.5641\n",
      "Epoch 23/50\n",
      "58538/58538 [==============================] - 600s 10ms/step - loss: 1.1934 - val_loss: 1.5660\n",
      "Epoch 24/50\n",
      "58538/58538 [==============================] - 601s 10ms/step - loss: 1.1882 - val_loss: 1.5641\n",
      "Epoch 25/50\n",
      "58538/58538 [==============================] - 600s 10ms/step - loss: 1.1831 - val_loss: 1.5730\n",
      "Epoch 26/50\n",
      "58538/58538 [==============================] - 601s 10ms/step - loss: 1.1787 - val_loss: 1.5798\n",
      "Epoch 27/50\n",
      "58538/58538 [==============================] - 601s 10ms/step - loss: 1.1747 - val_loss: 1.5762\n",
      "Epoch 28/50\n",
      "58538/58538 [==============================] - 601s 10ms/step - loss: 1.1710 - val_loss: 1.5809\n",
      "Epoch 29/50\n",
      "58538/58538 [==============================] - 601s 10ms/step - loss: 1.1672 - val_loss: 1.5835\n",
      "Epoch 30/50\n",
      "58538/58538 [==============================] - 601s 10ms/step - loss: 1.1629 - val_loss: 1.5859\n",
      "Epoch 31/50\n",
      "58538/58538 [==============================] - 601s 10ms/step - loss: 1.1591 - val_loss: 1.5898\n",
      "Epoch 32/50\n",
      "58538/58538 [==============================] - 602s 10ms/step - loss: 1.1560 - val_loss: 1.5913\n",
      "Epoch 33/50\n",
      "58538/58538 [==============================] - 601s 10ms/step - loss: 1.1526 - val_loss: 1.5969\n",
      "Epoch 34/50\n",
      "58538/58538 [==============================] - 601s 10ms/step - loss: 1.1496 - val_loss: 1.6035\n",
      "Epoch 35/50\n",
      "58538/58538 [==============================] - 601s 10ms/step - loss: 1.1462 - val_loss: 1.6037\n",
      "Epoch 36/50\n",
      "58538/58538 [==============================] - 601s 10ms/step - loss: 1.1430 - val_loss: 1.5970\n",
      "Epoch 37/50\n",
      "58538/58538 [==============================] - 601s 10ms/step - loss: 1.1402 - val_loss: 1.6070\n",
      "Epoch 38/50\n",
      "58538/58538 [==============================] - 601s 10ms/step - loss: 1.1374 - val_loss: 1.6114\n",
      "Epoch 39/50\n",
      "58538/58538 [==============================] - 601s 10ms/step - loss: 1.1341 - val_loss: 1.6125\n",
      "Epoch 40/50\n",
      "58538/58538 [==============================] - 601s 10ms/step - loss: 1.1323 - val_loss: 1.6207\n",
      "Epoch 41/50\n",
      "58538/58538 [==============================] - 601s 10ms/step - loss: 1.1292 - val_loss: 1.6179\n",
      "Epoch 42/50\n",
      "58538/58538 [==============================] - 601s 10ms/step - loss: 1.1268 - val_loss: 1.6177\n",
      "Epoch 43/50\n",
      "58538/58538 [==============================] - 600s 10ms/step - loss: 1.1241 - val_loss: 1.6252\n",
      "Epoch 44/50\n",
      "58538/58538 [==============================] - 600s 10ms/step - loss: 1.1221 - val_loss: 1.6249\n",
      "Epoch 45/50\n",
      "58538/58538 [==============================] - 601s 10ms/step - loss: 1.1198 - val_loss: 1.6315\n",
      "Epoch 46/50\n",
      "58538/58538 [==============================] - 600s 10ms/step - loss: 1.1169 - val_loss: 1.6369\n",
      "Epoch 47/50\n",
      "58538/58538 [==============================] - 601s 10ms/step - loss: 1.1150 - val_loss: 1.6324\n",
      "Epoch 48/50\n",
      "58538/58538 [==============================] - 601s 10ms/step - loss: 1.1124 - val_loss: 1.6339\n",
      "Epoch 49/50\n",
      "58538/58538 [==============================] - 601s 10ms/step - loss: 1.1111 - val_loss: 1.6373\n",
      "Epoch 50/50\n",
      "58538/58538 [==============================] - 601s 10ms/step - loss: 1.1092 - val_loss: 1.6449\n"
     ]
    }
   ],
   "source": [
    "history = model.fit(X_train, y_train, batch_size=50, validation_split=0.2, epochs=50, verbose=1)\n"
   ]
  },
  {
   "cell_type": "code",
   "execution_count": 9,
   "metadata": {},
   "outputs": [
    {
     "name": "stdout",
     "output_type": "stream",
     "text": [
      "saving: layers_2_hidden_500_dropout_1_epoch_50\n"
     ]
    }
   ],
   "source": [
    "save_model(model, history.history, DEFAULT_LAYERS, DEFAULT_HIDDEN, DEFAULT_DROPOUT)\n"
   ]
  },
  {
   "cell_type": "code",
   "execution_count": 10,
   "metadata": {},
   "outputs": [
    {
     "data": {
      "image/png": "[encoded data removed]",
      "text/plain": [
       "<Figure size 432x288 with 1 Axes>"
      ]
     },
     "metadata": {},
     "output_type": "display_data"
    }
   ],
   "source": [
    "plt.plot(history.history['loss'])\n",
    "plt.plot(history.history['val_loss'])\n",
    "plt.title('model train vs validation loss')\n",
    "plt.ylabel('loss')\n",
    "plt.xlabel('epoch')\n",
    "plt.legend(['train', 'validation'], loc='upper right')\n",
    "plt.show()"
   ]
  },
  {
   "cell_type": "code",
   "execution_count": 11,
   "metadata": {},
   "outputs": [
    {
     "name": "stdout",
     "output_type": "stream",
     "text": [
      "Here is a man that had a heart\n",
      "To take a brothel of the world.\n",
      "\n",
      "CORNWALL:\n",
      "What say you?\n",
      "\n",
      "CASSIUS:\n",
      "I "
     ]
    },
    {
     "data": {
      "text/plain": [
       "'Here is a man that had a heart\\nTo take a brothel of the world.\\n\\nCORNWALL:\\nWhat say you?\\n\\nCASSIUS:\\nI w'"
      ]
     },
     "execution_count": 11,
     "metadata": {},
     "output_type": "execute_result"
    }
   ],
   "source": [
    "generate_text(model, 100, VOCAB_SIZE, ix_to_char, [char_to_ix['H']], 0)"
   ]
  },
  {
   "cell_type": "code",
   "execution_count": 23,
   "metadata": {},
   "outputs": [
    {
     "name": "stdout",
     "output_type": "stream",
     "text": [
      "HARD II:\n",
      "Why, momenture doth fall from this faithless? shall they tee-fall!\n",
      "O, Caesar from his grave?\n",
      "\n",
      "CLAUDIO:\n",
      "The empress fierce, you may do no man's day. O Romeo\n",
      "Cominius is the more admired to this.\n",
      "\n",
      "TRANIO:\n",
      "She is alone; not for the better than your queen:\n",
      "Thanks would murder it, though you should deny, or ge unto the poor\n",
      "And service of no less place in your death.\n",
      "Why hast thou done? required me to thy apparel?\n",
      "\n",
      "DECIUS BRUTUS:\n",
      "O Lord, sir! heart thou hast,\n",
      "Thus far more unitely insolent e"
     ]
    },
    {
     "data": {
      "text/plain": [
       "\"HARD II:\\nWhy, momenture doth fall from this faithless? shall they tee-fall!\\nO, Caesar from his grave?\\n\\nCLAUDIO:\\nThe empress fierce, you may do no man's day. O Romeo\\nCominius is the more admired to this.\\n\\nTRANIO:\\nShe is alone; not for the better than your queen:\\nThanks would murder it, though you should deny, or ge unto the poor\\nAnd service of no less place in your death.\\nWhy hast thou done? required me to thy apparel?\\n\\nDECIUS BRUTUS:\\nO Lord, sir! heart thou hast,\\nThus far more unitely insolent en\""
      ]
     },
     "execution_count": 23,
     "metadata": {},
     "output_type": "execute_result"
    }
   ],
   "source": [
    "generate_text(model, 500, VOCAB_SIZE, ix_to_char, [char_to_ix['H']], 1)"
   ]
  },
  {
   "cell_type": "code",
   "execution_count": 20,
   "metadata": {},
   "outputs": [
    {
     "data": {
      "text/plain": [
       "1.6449453543183092"
      ]
     },
     "execution_count": 20,
     "metadata": {},
     "output_type": "execute_result"
    }
   ],
   "source": [
    "history.history['val_loss'][-1]"
   ]
  },
  {
   "cell_type": "code",
   "execution_count": null,
   "metadata": {},
   "outputs": [],
   "source": []
  }
 ],
 "metadata": {
  "kernelspec": {
   "display_name": "Python 2",
   "language": "python",
   "name": "python2"
  },
  "language_info": {
   "codemirror_mode": {
    "name": "ipython",
    "version": 2
   },
   "file_extension": ".py",
   "mimetype": "text/x-python",
   "name": "python",
   "nbconvert_exporter": "python",
   "pygments_lexer": "ipython2",
   "version": "2.7.12"
  }
 },
 "nbformat": 4,
 "nbformat_minor": 2
}
